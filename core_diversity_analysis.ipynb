{
 "cells": [
  {
   "cell_type": "code",
   "execution_count": 35,
   "metadata": {},
   "outputs": [],
   "source": [
    "import argparse\n",
    "import os\n",
    "import pandas as pd\n",
    "import unifrac\n",
    "\n",
    "from skbio.stats.ordination import pcoa"
   ]
  },
  {
   "cell_type": "code",
   "execution_count": 31,
   "metadata": {},
   "outputs": [],
   "source": [
    "parser = argparse.ArgumentParser()\n",
    "parser.add_argument('-b', '--biom', help='Path to feature table in biom format')\n",
    "parser.add_argument('-t', '--tree', help='Path to phylogenetic tree in newick format')\n",
    "parser.add_argument('-o', '--outdir', help='Path to directory for output files.')\n",
    "args = parser.parse_args()\n",
    "\n",
    "BIOM_FP = args.biom\n",
    "TREE_FP = args.tree\n",
    "OUTDIR = args.outdir\n",
    "\n",
    "if not os.path.exists(OUTDIR):\n",
    "    os.makedirs(OUTDIR)\n",
    "\n",
    "UU_FP = os.path.join(OUTDIR, './unifrac_weighted_distance.tsv')\n",
    "WU_FP = os.path.join(OUTDIR, './unifrac_unweighted_distance.tsv')\n",
    "\n",
    "UU_PCOA_FP = os.path.join(OUTDIR, './unifrac_unweighted_pcoa.tsv')\n",
    "WU_PCOA_FP = os.path.join(OUTDIR, './unifrac_weighted_pcoa.tsv')\n",
    "\n",
    "UU_VAR_FP = os.path.join(OUTDIR, './unifrac_unweighted_variance.tsv')\n",
    "WU_VAR_FP = os.path.join(OUTDIR, './unifrac_weighted_variance.tsv')\n",
    "ALPHA_FP = os.path.join(OUTDIR, './faith_pd.tsv')\n",
    "\n",
    "os.environ['UNIFRAC_USE_GPU'] = '1'"
   ]
  },
  {
   "cell_type": "code",
   "execution_count": 32,
   "metadata": {},
   "outputs": [],
   "source": [
    "def calc_div():\n",
    "    uu = unifrac.unweighted(table=BIOM_FP,\n",
    "                            phylogeny=TREE_FP)\n",
    "\n",
    "    wu = unifrac.weighted_unnormalized(table=BIOM_FP,\n",
    "                                    phylogeny=TREE_FP)\n",
    "\n",
    "    alpha = unifrac.faith_pd(biom_filename=BIOM_FP,\n",
    "                            tree_filename=TREE_FP)\n",
    "\n",
    "    # convert skbio distance matrix to pandas dataframe\n",
    "    # and then write to file\n",
    "    uu.to_data_frame().to_csv(UU_FP, sep='\\t', index=False)\n",
    "    wu.to_data_frame().to_csv(WU_FP, sep='\\t', index=False)\n",
    "\n",
    "    # calculate pcoa for weighted and unweighted \n",
    "    # unifrac distances\n",
    "    uu_pcoa = pcoa(uu.data, number_of_dimensions=10)\n",
    "    wu_pcoa = pcoa(wu.data, number_of_dimensions=10)\n",
    "\n",
    "    # insert column at 0th index for sample id by\n",
    "    # referencing the rownames (index) for the \n",
    "    # unifrac distances \n",
    "    uu_pcoa.samples.insert(loc=0, \n",
    "                       column='sampleid',\n",
    "                       value=uu.ids)\n",
    "    wu_pcoa.samples.insert(loc=0, \n",
    "                        column='sampleid',\n",
    "                        value=wu.ids)\n",
    "    \n",
    "    # write the pcoa coordinates to a tsv\n",
    "    uu_pcoa.samples.to_csv(UU_PCOA_FP, sep = '\\t', index = False)\n",
    "    wu_pcoa.samples.to_csv(WU_PCOA_FP, sep = '\\t', index = False)\n",
    "\n",
    "    # convert the pcoa variance explained into a dataframe\n",
    "    uu_variance = pd.DataFrame(uu_pcoa.proportion_explained, columns=['variance'])\n",
    "    wu_variance = pd.DataFrame(wu_pcoa.proportion_explained, columns=['variance'])\n",
    "\n",
    "    # insert a column at the 0th index for the pcs\n",
    "    # by referencing the rownames (index)\n",
    "    uu_variance.insert(loc=0,\n",
    "                       column='PC',\n",
    "                       value=uu_variance.index)\n",
    "    wu_variance.insert(loc=0,\n",
    "                       column='PC',\n",
    "                       value=wu_variance.index)\n",
    "\n",
    "    # write the pcoa variance explained to a tsv\n",
    "    uu_variance.to_csv(UU_VAR_FP, sep='\\t', index=False)\n",
    "    wu_variance.to_csv(WU_VAR_FP, sep='\\t', index=False)\n",
    "\n",
    "    alpha = pd.DataFrame(alpha, columns=['faith_pd'])\n",
    "    alpha.insert(loc=0,\n",
    "                column='sampleid',\n",
    "                value=alpha.index)\n",
    "    alpha.to_csv(ALPHA_FP, sep='\\t', index=False)"
   ]
  },
  {
   "cell_type": "code",
   "execution_count": null,
   "metadata": {},
   "outputs": [],
   "source": [
    "if __name__ == '__main__':\n",
    "    calc_div()"
   ]
  }
 ],
 "metadata": {
  "kernelspec": {
   "display_name": "Python 3",
   "language": "python",
   "name": "python3"
  },
  "language_info": {
   "codemirror_mode": {
    "name": "ipython",
    "version": 3
   },
   "file_extension": ".py",
   "mimetype": "text/x-python",
   "name": "python",
   "nbconvert_exporter": "python",
   "pygments_lexer": "ipython3",
   "version": "3.8.13"
  },
  "orig_nbformat": 4
 },
 "nbformat": 4,
 "nbformat_minor": 2
}
